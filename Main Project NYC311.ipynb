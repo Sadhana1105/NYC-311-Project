{
 "cells": [
  {
   "cell_type": "markdown",
   "metadata": {},
   "source": [
    "Project 1 : Customer Service Requests Analysis"
   ]
  },
  {
   "cell_type": "code",
   "execution_count": 2,
   "metadata": {},
   "outputs": [],
   "source": [
    "#import Libraries\n",
    "\n",
    "import pandas as pd\n",
    "import numpy as np\n",
    "import scipy\n",
    "import seaborn as sns"
   ]
  },
  {
   "cell_type": "code",
   "execution_count": 3,
   "metadata": {},
   "outputs": [],
   "source": [
    "import matplotlib.pyplot as plt\n"
   ]
  },
  {
   "cell_type": "code",
   "execution_count": 4,
   "metadata": {},
   "outputs": [
    {
     "name": "stderr",
     "output_type": "stream",
     "text": [
      "C:\\Users\\HOME\\anaconda3\\lib\\site-packages\\IPython\\core\\interactiveshell.py:3063: DtypeWarning: Columns (48,49) have mixed types.Specify dtype option on import or set low_memory=False.\n",
      "  interactivity=interactivity, compiler=compiler, result=result)\n"
     ]
    }
   ],
   "source": [
    "#import dataset(Import a 311 NYC service request.)\n",
    "\n",
    "data=pd.read_csv('311_Service_Requests_from_2010_to_Present.csv')"
   ]
  },
  {
   "cell_type": "code",
   "execution_count": 5,
   "metadata": {},
   "outputs": [],
   "source": [
    "nyc=pd.DataFrame(data)"
   ]
  },
  {
   "cell_type": "code",
   "execution_count": 6,
   "metadata": {},
   "outputs": [
    {
     "data": {
      "text/html": [
       "<div>\n",
       "<style scoped>\n",
       "    .dataframe tbody tr th:only-of-type {\n",
       "        vertical-align: middle;\n",
       "    }\n",
       "\n",
       "    .dataframe tbody tr th {\n",
       "        vertical-align: top;\n",
       "    }\n",
       "\n",
       "    .dataframe thead th {\n",
       "        text-align: right;\n",
       "    }\n",
       "</style>\n",
       "<table border=\"1\" class=\"dataframe\">\n",
       "  <thead>\n",
       "    <tr style=\"text-align: right;\">\n",
       "      <th></th>\n",
       "      <th>Unique Key</th>\n",
       "      <th>Incident Zip</th>\n",
       "      <th>X Coordinate (State Plane)</th>\n",
       "      <th>Y Coordinate (State Plane)</th>\n",
       "      <th>School or Citywide Complaint</th>\n",
       "      <th>Vehicle Type</th>\n",
       "      <th>Taxi Company Borough</th>\n",
       "      <th>Taxi Pick Up Location</th>\n",
       "      <th>Garage Lot Name</th>\n",
       "      <th>Latitude</th>\n",
       "      <th>Longitude</th>\n",
       "    </tr>\n",
       "  </thead>\n",
       "  <tbody>\n",
       "    <tr>\n",
       "      <th>count</th>\n",
       "      <td>3.006980e+05</td>\n",
       "      <td>298083.000000</td>\n",
       "      <td>2.971580e+05</td>\n",
       "      <td>297158.000000</td>\n",
       "      <td>0.0</td>\n",
       "      <td>0.0</td>\n",
       "      <td>0.0</td>\n",
       "      <td>0.0</td>\n",
       "      <td>0.0</td>\n",
       "      <td>297158.000000</td>\n",
       "      <td>297158.000000</td>\n",
       "    </tr>\n",
       "    <tr>\n",
       "      <th>mean</th>\n",
       "      <td>3.130054e+07</td>\n",
       "      <td>10848.888645</td>\n",
       "      <td>1.004854e+06</td>\n",
       "      <td>203754.534416</td>\n",
       "      <td>NaN</td>\n",
       "      <td>NaN</td>\n",
       "      <td>NaN</td>\n",
       "      <td>NaN</td>\n",
       "      <td>NaN</td>\n",
       "      <td>40.725885</td>\n",
       "      <td>-73.925630</td>\n",
       "    </tr>\n",
       "    <tr>\n",
       "      <th>std</th>\n",
       "      <td>5.738547e+05</td>\n",
       "      <td>583.182081</td>\n",
       "      <td>2.175338e+04</td>\n",
       "      <td>29880.183529</td>\n",
       "      <td>NaN</td>\n",
       "      <td>NaN</td>\n",
       "      <td>NaN</td>\n",
       "      <td>NaN</td>\n",
       "      <td>NaN</td>\n",
       "      <td>0.082012</td>\n",
       "      <td>0.078454</td>\n",
       "    </tr>\n",
       "    <tr>\n",
       "      <th>min</th>\n",
       "      <td>3.027948e+07</td>\n",
       "      <td>83.000000</td>\n",
       "      <td>9.133570e+05</td>\n",
       "      <td>121219.000000</td>\n",
       "      <td>NaN</td>\n",
       "      <td>NaN</td>\n",
       "      <td>NaN</td>\n",
       "      <td>NaN</td>\n",
       "      <td>NaN</td>\n",
       "      <td>40.499135</td>\n",
       "      <td>-74.254937</td>\n",
       "    </tr>\n",
       "    <tr>\n",
       "      <th>25%</th>\n",
       "      <td>3.080118e+07</td>\n",
       "      <td>10310.000000</td>\n",
       "      <td>9.919752e+05</td>\n",
       "      <td>183343.000000</td>\n",
       "      <td>NaN</td>\n",
       "      <td>NaN</td>\n",
       "      <td>NaN</td>\n",
       "      <td>NaN</td>\n",
       "      <td>NaN</td>\n",
       "      <td>40.669796</td>\n",
       "      <td>-73.972142</td>\n",
       "    </tr>\n",
       "    <tr>\n",
       "      <th>50%</th>\n",
       "      <td>3.130436e+07</td>\n",
       "      <td>11208.000000</td>\n",
       "      <td>1.003158e+06</td>\n",
       "      <td>201110.500000</td>\n",
       "      <td>NaN</td>\n",
       "      <td>NaN</td>\n",
       "      <td>NaN</td>\n",
       "      <td>NaN</td>\n",
       "      <td>NaN</td>\n",
       "      <td>40.718661</td>\n",
       "      <td>-73.931781</td>\n",
       "    </tr>\n",
       "    <tr>\n",
       "      <th>75%</th>\n",
       "      <td>3.178446e+07</td>\n",
       "      <td>11238.000000</td>\n",
       "      <td>1.018372e+06</td>\n",
       "      <td>224125.250000</td>\n",
       "      <td>NaN</td>\n",
       "      <td>NaN</td>\n",
       "      <td>NaN</td>\n",
       "      <td>NaN</td>\n",
       "      <td>NaN</td>\n",
       "      <td>40.781840</td>\n",
       "      <td>-73.876805</td>\n",
       "    </tr>\n",
       "    <tr>\n",
       "      <th>max</th>\n",
       "      <td>3.231065e+07</td>\n",
       "      <td>11697.000000</td>\n",
       "      <td>1.067173e+06</td>\n",
       "      <td>271876.000000</td>\n",
       "      <td>NaN</td>\n",
       "      <td>NaN</td>\n",
       "      <td>NaN</td>\n",
       "      <td>NaN</td>\n",
       "      <td>NaN</td>\n",
       "      <td>40.912869</td>\n",
       "      <td>-73.700760</td>\n",
       "    </tr>\n",
       "  </tbody>\n",
       "</table>\n",
       "</div>"
      ],
      "text/plain": [
       "         Unique Key   Incident Zip  X Coordinate (State Plane)  \\\n",
       "count  3.006980e+05  298083.000000                2.971580e+05   \n",
       "mean   3.130054e+07   10848.888645                1.004854e+06   \n",
       "std    5.738547e+05     583.182081                2.175338e+04   \n",
       "min    3.027948e+07      83.000000                9.133570e+05   \n",
       "25%    3.080118e+07   10310.000000                9.919752e+05   \n",
       "50%    3.130436e+07   11208.000000                1.003158e+06   \n",
       "75%    3.178446e+07   11238.000000                1.018372e+06   \n",
       "max    3.231065e+07   11697.000000                1.067173e+06   \n",
       "\n",
       "       Y Coordinate (State Plane)  School or Citywide Complaint  Vehicle Type  \\\n",
       "count               297158.000000                           0.0           0.0   \n",
       "mean                203754.534416                           NaN           NaN   \n",
       "std                  29880.183529                           NaN           NaN   \n",
       "min                 121219.000000                           NaN           NaN   \n",
       "25%                 183343.000000                           NaN           NaN   \n",
       "50%                 201110.500000                           NaN           NaN   \n",
       "75%                 224125.250000                           NaN           NaN   \n",
       "max                 271876.000000                           NaN           NaN   \n",
       "\n",
       "       Taxi Company Borough  Taxi Pick Up Location  Garage Lot Name  \\\n",
       "count                   0.0                    0.0              0.0   \n",
       "mean                    NaN                    NaN              NaN   \n",
       "std                     NaN                    NaN              NaN   \n",
       "min                     NaN                    NaN              NaN   \n",
       "25%                     NaN                    NaN              NaN   \n",
       "50%                     NaN                    NaN              NaN   \n",
       "75%                     NaN                    NaN              NaN   \n",
       "max                     NaN                    NaN              NaN   \n",
       "\n",
       "            Latitude      Longitude  \n",
       "count  297158.000000  297158.000000  \n",
       "mean       40.725885     -73.925630  \n",
       "std         0.082012       0.078454  \n",
       "min        40.499135     -74.254937  \n",
       "25%        40.669796     -73.972142  \n",
       "50%        40.718661     -73.931781  \n",
       "75%        40.781840     -73.876805  \n",
       "max        40.912869     -73.700760  "
      ]
     },
     "execution_count": 6,
     "metadata": {},
     "output_type": "execute_result"
    }
   ],
   "source": [
    "nyc.describe()"
   ]
  },
  {
   "cell_type": "code",
   "execution_count": 7,
   "metadata": {},
   "outputs": [
    {
     "data": {
      "text/html": [
       "<div>\n",
       "<style scoped>\n",
       "    .dataframe tbody tr th:only-of-type {\n",
       "        vertical-align: middle;\n",
       "    }\n",
       "\n",
       "    .dataframe tbody tr th {\n",
       "        vertical-align: top;\n",
       "    }\n",
       "\n",
       "    .dataframe thead th {\n",
       "        text-align: right;\n",
       "    }\n",
       "</style>\n",
       "<table border=\"1\" class=\"dataframe\">\n",
       "  <thead>\n",
       "    <tr style=\"text-align: right;\">\n",
       "      <th></th>\n",
       "      <th>Unique Key</th>\n",
       "      <th>Created Date</th>\n",
       "      <th>Closed Date</th>\n",
       "      <th>Agency</th>\n",
       "      <th>Agency Name</th>\n",
       "      <th>Complaint Type</th>\n",
       "      <th>Descriptor</th>\n",
       "      <th>Location Type</th>\n",
       "      <th>Incident Zip</th>\n",
       "      <th>Incident Address</th>\n",
       "      <th>...</th>\n",
       "      <th>Bridge Highway Name</th>\n",
       "      <th>Bridge Highway Direction</th>\n",
       "      <th>Road Ramp</th>\n",
       "      <th>Bridge Highway Segment</th>\n",
       "      <th>Garage Lot Name</th>\n",
       "      <th>Ferry Direction</th>\n",
       "      <th>Ferry Terminal Name</th>\n",
       "      <th>Latitude</th>\n",
       "      <th>Longitude</th>\n",
       "      <th>Location</th>\n",
       "    </tr>\n",
       "  </thead>\n",
       "  <tbody>\n",
       "    <tr>\n",
       "      <th>0</th>\n",
       "      <td>32310363</td>\n",
       "      <td>12/31/2015 11:59:45 PM</td>\n",
       "      <td>01-01-16 0:55</td>\n",
       "      <td>NYPD</td>\n",
       "      <td>New York City Police Department</td>\n",
       "      <td>Noise - Street/Sidewalk</td>\n",
       "      <td>Loud Music/Party</td>\n",
       "      <td>Street/Sidewalk</td>\n",
       "      <td>10034.0</td>\n",
       "      <td>71 VERMILYEA AVENUE</td>\n",
       "      <td>...</td>\n",
       "      <td>NaN</td>\n",
       "      <td>NaN</td>\n",
       "      <td>NaN</td>\n",
       "      <td>NaN</td>\n",
       "      <td>NaN</td>\n",
       "      <td>NaN</td>\n",
       "      <td>NaN</td>\n",
       "      <td>40.865682</td>\n",
       "      <td>-73.923501</td>\n",
       "      <td>(40.86568153633767, -73.92350095571744)</td>\n",
       "    </tr>\n",
       "    <tr>\n",
       "      <th>1</th>\n",
       "      <td>32309934</td>\n",
       "      <td>12/31/2015 11:59:44 PM</td>\n",
       "      <td>01-01-16 1:26</td>\n",
       "      <td>NYPD</td>\n",
       "      <td>New York City Police Department</td>\n",
       "      <td>Blocked Driveway</td>\n",
       "      <td>No Access</td>\n",
       "      <td>Street/Sidewalk</td>\n",
       "      <td>11105.0</td>\n",
       "      <td>27-07 23 AVENUE</td>\n",
       "      <td>...</td>\n",
       "      <td>NaN</td>\n",
       "      <td>NaN</td>\n",
       "      <td>NaN</td>\n",
       "      <td>NaN</td>\n",
       "      <td>NaN</td>\n",
       "      <td>NaN</td>\n",
       "      <td>NaN</td>\n",
       "      <td>40.775945</td>\n",
       "      <td>-73.915094</td>\n",
       "      <td>(40.775945312321085, -73.91509393898605)</td>\n",
       "    </tr>\n",
       "    <tr>\n",
       "      <th>2</th>\n",
       "      <td>32309159</td>\n",
       "      <td>12/31/2015 11:59:29 PM</td>\n",
       "      <td>01-01-16 4:51</td>\n",
       "      <td>NYPD</td>\n",
       "      <td>New York City Police Department</td>\n",
       "      <td>Blocked Driveway</td>\n",
       "      <td>No Access</td>\n",
       "      <td>Street/Sidewalk</td>\n",
       "      <td>10458.0</td>\n",
       "      <td>2897 VALENTINE AVENUE</td>\n",
       "      <td>...</td>\n",
       "      <td>NaN</td>\n",
       "      <td>NaN</td>\n",
       "      <td>NaN</td>\n",
       "      <td>NaN</td>\n",
       "      <td>NaN</td>\n",
       "      <td>NaN</td>\n",
       "      <td>NaN</td>\n",
       "      <td>40.870325</td>\n",
       "      <td>-73.888525</td>\n",
       "      <td>(40.870324522111424, -73.88852464418646)</td>\n",
       "    </tr>\n",
       "  </tbody>\n",
       "</table>\n",
       "<p>3 rows × 53 columns</p>\n",
       "</div>"
      ],
      "text/plain": [
       "   Unique Key            Created Date    Closed Date Agency  \\\n",
       "0    32310363  12/31/2015 11:59:45 PM  01-01-16 0:55   NYPD   \n",
       "1    32309934  12/31/2015 11:59:44 PM  01-01-16 1:26   NYPD   \n",
       "2    32309159  12/31/2015 11:59:29 PM  01-01-16 4:51   NYPD   \n",
       "\n",
       "                       Agency Name           Complaint Type        Descriptor  \\\n",
       "0  New York City Police Department  Noise - Street/Sidewalk  Loud Music/Party   \n",
       "1  New York City Police Department         Blocked Driveway         No Access   \n",
       "2  New York City Police Department         Blocked Driveway         No Access   \n",
       "\n",
       "     Location Type  Incident Zip       Incident Address  ...  \\\n",
       "0  Street/Sidewalk       10034.0    71 VERMILYEA AVENUE  ...   \n",
       "1  Street/Sidewalk       11105.0        27-07 23 AVENUE  ...   \n",
       "2  Street/Sidewalk       10458.0  2897 VALENTINE AVENUE  ...   \n",
       "\n",
       "  Bridge Highway Name Bridge Highway Direction Road Ramp  \\\n",
       "0                 NaN                      NaN       NaN   \n",
       "1                 NaN                      NaN       NaN   \n",
       "2                 NaN                      NaN       NaN   \n",
       "\n",
       "  Bridge Highway Segment Garage Lot Name Ferry Direction Ferry Terminal Name  \\\n",
       "0                    NaN             NaN             NaN                 NaN   \n",
       "1                    NaN             NaN             NaN                 NaN   \n",
       "2                    NaN             NaN             NaN                 NaN   \n",
       "\n",
       "    Latitude  Longitude                                  Location  \n",
       "0  40.865682 -73.923501   (40.86568153633767, -73.92350095571744)  \n",
       "1  40.775945 -73.915094  (40.775945312321085, -73.91509393898605)  \n",
       "2  40.870325 -73.888525  (40.870324522111424, -73.88852464418646)  \n",
       "\n",
       "[3 rows x 53 columns]"
      ]
     },
     "execution_count": 7,
     "metadata": {},
     "output_type": "execute_result"
    }
   ],
   "source": [
    "nyc.head(3)"
   ]
  },
  {
   "cell_type": "code",
   "execution_count": 17,
   "metadata": {},
   "outputs": [
    {
     "data": {
      "text/html": [
       "<div>\n",
       "<style scoped>\n",
       "    .dataframe tbody tr th:only-of-type {\n",
       "        vertical-align: middle;\n",
       "    }\n",
       "\n",
       "    .dataframe tbody tr th {\n",
       "        vertical-align: top;\n",
       "    }\n",
       "\n",
       "    .dataframe thead th {\n",
       "        text-align: right;\n",
       "    }\n",
       "</style>\n",
       "<table border=\"1\" class=\"dataframe\">\n",
       "  <thead>\n",
       "    <tr style=\"text-align: right;\">\n",
       "      <th></th>\n",
       "      <th>Unique Key</th>\n",
       "      <th>Created Date</th>\n",
       "      <th>Closed Date</th>\n",
       "      <th>Agency</th>\n",
       "      <th>Agency Name</th>\n",
       "      <th>Complaint Type</th>\n",
       "      <th>Descriptor</th>\n",
       "      <th>Location Type</th>\n",
       "      <th>Incident Zip</th>\n",
       "      <th>Incident Address</th>\n",
       "      <th>...</th>\n",
       "      <th>Bridge Highway Name</th>\n",
       "      <th>Bridge Highway Direction</th>\n",
       "      <th>Road Ramp</th>\n",
       "      <th>Bridge Highway Segment</th>\n",
       "      <th>Garage Lot Name</th>\n",
       "      <th>Ferry Direction</th>\n",
       "      <th>Ferry Terminal Name</th>\n",
       "      <th>Latitude</th>\n",
       "      <th>Longitude</th>\n",
       "      <th>Location</th>\n",
       "    </tr>\n",
       "  </thead>\n",
       "  <tbody>\n",
       "    <tr>\n",
       "      <th>300695</th>\n",
       "      <td>30283424</td>\n",
       "      <td>03/29/2015 12:33:03 AM</td>\n",
       "      <td>03/29/2015 03:40:20 AM</td>\n",
       "      <td>NYPD</td>\n",
       "      <td>New York City Police Department</td>\n",
       "      <td>Noise - Commercial</td>\n",
       "      <td>Loud Music/Party</td>\n",
       "      <td>Club/Bar/Restaurant</td>\n",
       "      <td>11206.0</td>\n",
       "      <td>162 THROOP AVENUE</td>\n",
       "      <td>...</td>\n",
       "      <td>NaN</td>\n",
       "      <td>NaN</td>\n",
       "      <td>NaN</td>\n",
       "      <td>NaN</td>\n",
       "      <td>NaN</td>\n",
       "      <td>NaN</td>\n",
       "      <td>NaN</td>\n",
       "      <td>40.699590</td>\n",
       "      <td>-73.944234</td>\n",
       "      <td>(40.69959035300927, -73.94423377144169)</td>\n",
       "    </tr>\n",
       "    <tr>\n",
       "      <th>300696</th>\n",
       "      <td>30280004</td>\n",
       "      <td>03/29/2015 12:33:02 AM</td>\n",
       "      <td>03/29/2015 04:38:35 AM</td>\n",
       "      <td>NYPD</td>\n",
       "      <td>New York City Police Department</td>\n",
       "      <td>Noise - Commercial</td>\n",
       "      <td>Loud Music/Party</td>\n",
       "      <td>Club/Bar/Restaurant</td>\n",
       "      <td>10461.0</td>\n",
       "      <td>3151 EAST TREMONT AVENUE</td>\n",
       "      <td>...</td>\n",
       "      <td>NaN</td>\n",
       "      <td>NaN</td>\n",
       "      <td>NaN</td>\n",
       "      <td>NaN</td>\n",
       "      <td>NaN</td>\n",
       "      <td>NaN</td>\n",
       "      <td>NaN</td>\n",
       "      <td>40.837708</td>\n",
       "      <td>-73.834587</td>\n",
       "      <td>(40.8377075854206, -73.83458731019586)</td>\n",
       "    </tr>\n",
       "    <tr>\n",
       "      <th>300697</th>\n",
       "      <td>30281825</td>\n",
       "      <td>03/29/2015 12:33:01 AM</td>\n",
       "      <td>03/29/2015 04:41:50 AM</td>\n",
       "      <td>NYPD</td>\n",
       "      <td>New York City Police Department</td>\n",
       "      <td>Noise - Commercial</td>\n",
       "      <td>Loud Music/Party</td>\n",
       "      <td>Store/Commercial</td>\n",
       "      <td>10036.0</td>\n",
       "      <td>251 WEST 48 STREET</td>\n",
       "      <td>...</td>\n",
       "      <td>NaN</td>\n",
       "      <td>NaN</td>\n",
       "      <td>NaN</td>\n",
       "      <td>NaN</td>\n",
       "      <td>NaN</td>\n",
       "      <td>NaN</td>\n",
       "      <td>NaN</td>\n",
       "      <td>40.760583</td>\n",
       "      <td>-73.985922</td>\n",
       "      <td>(40.76058322950115, -73.98592204392392)</td>\n",
       "    </tr>\n",
       "  </tbody>\n",
       "</table>\n",
       "<p>3 rows × 53 columns</p>\n",
       "</div>"
      ],
      "text/plain": [
       "        Unique Key            Created Date             Closed Date Agency  \\\n",
       "300695    30283424  03/29/2015 12:33:03 AM  03/29/2015 03:40:20 AM   NYPD   \n",
       "300696    30280004  03/29/2015 12:33:02 AM  03/29/2015 04:38:35 AM   NYPD   \n",
       "300697    30281825  03/29/2015 12:33:01 AM  03/29/2015 04:41:50 AM   NYPD   \n",
       "\n",
       "                            Agency Name      Complaint Type        Descriptor  \\\n",
       "300695  New York City Police Department  Noise - Commercial  Loud Music/Party   \n",
       "300696  New York City Police Department  Noise - Commercial  Loud Music/Party   \n",
       "300697  New York City Police Department  Noise - Commercial  Loud Music/Party   \n",
       "\n",
       "              Location Type  Incident Zip          Incident Address  ...  \\\n",
       "300695  Club/Bar/Restaurant       11206.0         162 THROOP AVENUE  ...   \n",
       "300696  Club/Bar/Restaurant       10461.0  3151 EAST TREMONT AVENUE  ...   \n",
       "300697     Store/Commercial       10036.0        251 WEST 48 STREET  ...   \n",
       "\n",
       "       Bridge Highway Name Bridge Highway Direction Road Ramp  \\\n",
       "300695                 NaN                      NaN       NaN   \n",
       "300696                 NaN                      NaN       NaN   \n",
       "300697                 NaN                      NaN       NaN   \n",
       "\n",
       "       Bridge Highway Segment Garage Lot Name Ferry Direction  \\\n",
       "300695                    NaN             NaN             NaN   \n",
       "300696                    NaN             NaN             NaN   \n",
       "300697                    NaN             NaN             NaN   \n",
       "\n",
       "       Ferry Terminal Name   Latitude  Longitude  \\\n",
       "300695                 NaN  40.699590 -73.944234   \n",
       "300696                 NaN  40.837708 -73.834587   \n",
       "300697                 NaN  40.760583 -73.985922   \n",
       "\n",
       "                                       Location  \n",
       "300695  (40.69959035300927, -73.94423377144169)  \n",
       "300696   (40.8377075854206, -73.83458731019586)  \n",
       "300697  (40.76058322950115, -73.98592204392392)  \n",
       "\n",
       "[3 rows x 53 columns]"
      ]
     },
     "execution_count": 17,
     "metadata": {},
     "output_type": "execute_result"
    }
   ],
   "source": [
    "nyc.tail(3)"
   ]
  },
  {
   "cell_type": "code",
   "execution_count": 18,
   "metadata": {},
   "outputs": [
    {
     "name": "stdout",
     "output_type": "stream",
     "text": [
      "<class 'pandas.core.frame.DataFrame'>\n",
      "RangeIndex: 300698 entries, 0 to 300697\n",
      "Data columns (total 53 columns):\n",
      " #   Column                          Non-Null Count   Dtype  \n",
      "---  ------                          --------------   -----  \n",
      " 0   Unique Key                      300698 non-null  int64  \n",
      " 1   Created Date                    300698 non-null  object \n",
      " 2   Closed Date                     300698 non-null  object \n",
      " 3   Agency                          300698 non-null  object \n",
      " 4   Agency Name                     300698 non-null  object \n",
      " 5   Complaint Type                  300698 non-null  object \n",
      " 6   Descriptor                      294784 non-null  object \n",
      " 7   Location Type                   300567 non-null  object \n",
      " 8   Incident Zip                    298083 non-null  float64\n",
      " 9   Incident Address                256288 non-null  object \n",
      " 10  Street Name                     256288 non-null  object \n",
      " 11  Cross Street 1                  251419 non-null  object \n",
      " 12  Cross Street 2                  250919 non-null  object \n",
      " 13  Intersection Street 1           43858 non-null   object \n",
      " 14  Intersection Street 2           43362 non-null   object \n",
      " 15  Address Type                    297883 non-null  object \n",
      " 16  City                            298084 non-null  object \n",
      " 17  Landmark                        349 non-null     object \n",
      " 18  Facility Type                   298527 non-null  object \n",
      " 19  Status                          300698 non-null  object \n",
      " 20  Due Date                        300695 non-null  object \n",
      " 21  Resolution Description          300698 non-null  object \n",
      " 22  Resolution Action Updated Date  298511 non-null  object \n",
      " 23  Community Board                 300698 non-null  object \n",
      " 24  Borough                         300698 non-null  object \n",
      " 25  X Coordinate (State Plane)      297158 non-null  float64\n",
      " 26  Y Coordinate (State Plane)      297158 non-null  float64\n",
      " 27  Park Facility Name              300698 non-null  object \n",
      " 28  Park Borough                    300698 non-null  object \n",
      " 29  School Name                     300698 non-null  object \n",
      " 30  School Number                   300698 non-null  object \n",
      " 31  School Region                   300697 non-null  object \n",
      " 32  School Code                     300697 non-null  object \n",
      " 33  School Phone Number             300698 non-null  object \n",
      " 34  School Address                  300698 non-null  object \n",
      " 35  School City                     300698 non-null  object \n",
      " 36  School State                    300698 non-null  object \n",
      " 37  School Zip                      300697 non-null  object \n",
      " 38  School Not Found                300698 non-null  object \n",
      " 39  School or Citywide Complaint    0 non-null       float64\n",
      " 40  Vehicle Type                    0 non-null       float64\n",
      " 41  Taxi Company Borough            0 non-null       float64\n",
      " 42  Taxi Pick Up Location           0 non-null       float64\n",
      " 43  Bridge Highway Name             243 non-null     object \n",
      " 44  Bridge Highway Direction        243 non-null     object \n",
      " 45  Road Ramp                       213 non-null     object \n",
      " 46  Bridge Highway Segment          213 non-null     object \n",
      " 47  Garage Lot Name                 0 non-null       float64\n",
      " 48  Ferry Direction                 1 non-null       object \n",
      " 49  Ferry Terminal Name             2 non-null       object \n",
      " 50  Latitude                        297158 non-null  float64\n",
      " 51  Longitude                       297158 non-null  float64\n",
      " 52  Location                        297158 non-null  object \n",
      "dtypes: float64(10), int64(1), object(42)\n",
      "memory usage: 121.6+ MB\n"
     ]
    }
   ],
   "source": [
    "nyc.info()"
   ]
  },
  {
   "cell_type": "code",
   "execution_count": 19,
   "metadata": {},
   "outputs": [
    {
     "data": {
      "text/plain": [
       "(300698, 53)"
      ]
     },
     "execution_count": 19,
     "metadata": {},
     "output_type": "execute_result"
    }
   ],
   "source": [
    "nyc.shape"
   ]
  },
  {
   "cell_type": "code",
   "execution_count": 20,
   "metadata": {},
   "outputs": [],
   "source": [
    "nyc['Closed Date'].fillna(method='ffill',inplace=True)"
   ]
  },
  {
   "cell_type": "code",
   "execution_count": 26,
   "metadata": {},
   "outputs": [
    {
     "data": {
      "text/plain": [
       "0        2016-01-01 00:55:00\n",
       "1        2016-01-01 01:26:00\n",
       "2        2016-01-01 04:51:00\n",
       "3        2016-01-01 07:43:00\n",
       "4        2016-01-01 03:24:00\n",
       "                 ...        \n",
       "300693   2015-03-29 01:13:01\n",
       "300694   2015-03-29 02:33:59\n",
       "300695   2015-03-29 03:40:20\n",
       "300696   2015-03-29 04:38:35\n",
       "300697   2015-03-29 04:41:50\n",
       "Name: Closed Date, Length: 300698, dtype: datetime64[ns]"
      ]
     },
     "execution_count": 26,
     "metadata": {},
     "output_type": "execute_result"
    }
   ],
   "source": [
    "nyc['Closed Date']"
   ]
  },
  {
   "cell_type": "markdown",
   "metadata": {},
   "source": [
    "Read or convert the columns ‘Created Date’ and Closed Date’ to datetime datatype"
   ]
  },
  {
   "cell_type": "code",
   "execution_count": 23,
   "metadata": {},
   "outputs": [],
   "source": [
    "nyc['Created Date']=pd.to_datetime(nyc['Created Date'])"
   ]
  },
  {
   "cell_type": "code",
   "execution_count": 24,
   "metadata": {},
   "outputs": [],
   "source": [
    "nyc['Closed Date']=pd.to_datetime(nyc['Closed Date'])"
   ]
  },
  {
   "cell_type": "code",
   "execution_count": 25,
   "metadata": {},
   "outputs": [
    {
     "data": {
      "text/html": [
       "<div>\n",
       "<style scoped>\n",
       "    .dataframe tbody tr th:only-of-type {\n",
       "        vertical-align: middle;\n",
       "    }\n",
       "\n",
       "    .dataframe tbody tr th {\n",
       "        vertical-align: top;\n",
       "    }\n",
       "\n",
       "    .dataframe thead th {\n",
       "        text-align: right;\n",
       "    }\n",
       "</style>\n",
       "<table border=\"1\" class=\"dataframe\">\n",
       "  <thead>\n",
       "    <tr style=\"text-align: right;\">\n",
       "      <th></th>\n",
       "      <th>Created Date</th>\n",
       "      <th>Closed Date</th>\n",
       "    </tr>\n",
       "  </thead>\n",
       "  <tbody>\n",
       "    <tr>\n",
       "      <th>0</th>\n",
       "      <td>2015-12-31 23:59:45</td>\n",
       "      <td>2016-01-01 00:55:00</td>\n",
       "    </tr>\n",
       "    <tr>\n",
       "      <th>1</th>\n",
       "      <td>2015-12-31 23:59:44</td>\n",
       "      <td>2016-01-01 01:26:00</td>\n",
       "    </tr>\n",
       "    <tr>\n",
       "      <th>2</th>\n",
       "      <td>2015-12-31 23:59:29</td>\n",
       "      <td>2016-01-01 04:51:00</td>\n",
       "    </tr>\n",
       "    <tr>\n",
       "      <th>3</th>\n",
       "      <td>2015-12-31 23:57:46</td>\n",
       "      <td>2016-01-01 07:43:00</td>\n",
       "    </tr>\n",
       "    <tr>\n",
       "      <th>4</th>\n",
       "      <td>2015-12-31 23:56:58</td>\n",
       "      <td>2016-01-01 03:24:00</td>\n",
       "    </tr>\n",
       "    <tr>\n",
       "      <th>...</th>\n",
       "      <td>...</td>\n",
       "      <td>...</td>\n",
       "    </tr>\n",
       "    <tr>\n",
       "      <th>300693</th>\n",
       "      <td>2015-03-29 00:33:41</td>\n",
       "      <td>2015-03-29 01:13:01</td>\n",
       "    </tr>\n",
       "    <tr>\n",
       "      <th>300694</th>\n",
       "      <td>2015-03-29 00:33:28</td>\n",
       "      <td>2015-03-29 02:33:59</td>\n",
       "    </tr>\n",
       "    <tr>\n",
       "      <th>300695</th>\n",
       "      <td>2015-03-29 00:33:03</td>\n",
       "      <td>2015-03-29 03:40:20</td>\n",
       "    </tr>\n",
       "    <tr>\n",
       "      <th>300696</th>\n",
       "      <td>2015-03-29 00:33:02</td>\n",
       "      <td>2015-03-29 04:38:35</td>\n",
       "    </tr>\n",
       "    <tr>\n",
       "      <th>300697</th>\n",
       "      <td>2015-03-29 00:33:01</td>\n",
       "      <td>2015-03-29 04:41:50</td>\n",
       "    </tr>\n",
       "  </tbody>\n",
       "</table>\n",
       "<p>300698 rows × 2 columns</p>\n",
       "</div>"
      ],
      "text/plain": [
       "              Created Date         Closed Date\n",
       "0      2015-12-31 23:59:45 2016-01-01 00:55:00\n",
       "1      2015-12-31 23:59:44 2016-01-01 01:26:00\n",
       "2      2015-12-31 23:59:29 2016-01-01 04:51:00\n",
       "3      2015-12-31 23:57:46 2016-01-01 07:43:00\n",
       "4      2015-12-31 23:56:58 2016-01-01 03:24:00\n",
       "...                    ...                 ...\n",
       "300693 2015-03-29 00:33:41 2015-03-29 01:13:01\n",
       "300694 2015-03-29 00:33:28 2015-03-29 02:33:59\n",
       "300695 2015-03-29 00:33:03 2015-03-29 03:40:20\n",
       "300696 2015-03-29 00:33:02 2015-03-29 04:38:35\n",
       "300697 2015-03-29 00:33:01 2015-03-29 04:41:50\n",
       "\n",
       "[300698 rows x 2 columns]"
      ]
     },
     "execution_count": 25,
     "metadata": {},
     "output_type": "execute_result"
    }
   ],
   "source": [
    "nyc[['Created Date','Closed Date']]"
   ]
  },
  {
   "cell_type": "code",
   "execution_count": 27,
   "metadata": {},
   "outputs": [],
   "source": [
    "nyc.fillna(0,inplace=True)"
   ]
  },
  {
   "cell_type": "code",
   "execution_count": 28,
   "metadata": {},
   "outputs": [
    {
     "name": "stdout",
     "output_type": "stream",
     "text": [
      "<class 'pandas.core.frame.DataFrame'>\n",
      "RangeIndex: 300698 entries, 0 to 300697\n",
      "Data columns (total 53 columns):\n",
      " #   Column                          Non-Null Count   Dtype         \n",
      "---  ------                          --------------   -----         \n",
      " 0   Unique Key                      300698 non-null  int64         \n",
      " 1   Created Date                    300698 non-null  datetime64[ns]\n",
      " 2   Closed Date                     300698 non-null  datetime64[ns]\n",
      " 3   Agency                          300698 non-null  object        \n",
      " 4   Agency Name                     300698 non-null  object        \n",
      " 5   Complaint Type                  300698 non-null  object        \n",
      " 6   Descriptor                      300698 non-null  object        \n",
      " 7   Location Type                   300698 non-null  object        \n",
      " 8   Incident Zip                    300698 non-null  float64       \n",
      " 9   Incident Address                300698 non-null  object        \n",
      " 10  Street Name                     300698 non-null  object        \n",
      " 11  Cross Street 1                  300698 non-null  object        \n",
      " 12  Cross Street 2                  300698 non-null  object        \n",
      " 13  Intersection Street 1           300698 non-null  object        \n",
      " 14  Intersection Street 2           300698 non-null  object        \n",
      " 15  Address Type                    300698 non-null  object        \n",
      " 16  City                            300698 non-null  object        \n",
      " 17  Landmark                        300698 non-null  object        \n",
      " 18  Facility Type                   300698 non-null  object        \n",
      " 19  Status                          300698 non-null  object        \n",
      " 20  Due Date                        300698 non-null  object        \n",
      " 21  Resolution Description          300698 non-null  object        \n",
      " 22  Resolution Action Updated Date  300698 non-null  object        \n",
      " 23  Community Board                 300698 non-null  object        \n",
      " 24  Borough                         300698 non-null  object        \n",
      " 25  X Coordinate (State Plane)      300698 non-null  float64       \n",
      " 26  Y Coordinate (State Plane)      300698 non-null  float64       \n",
      " 27  Park Facility Name              300698 non-null  object        \n",
      " 28  Park Borough                    300698 non-null  object        \n",
      " 29  School Name                     300698 non-null  object        \n",
      " 30  School Number                   300698 non-null  object        \n",
      " 31  School Region                   300698 non-null  object        \n",
      " 32  School Code                     300698 non-null  object        \n",
      " 33  School Phone Number             300698 non-null  object        \n",
      " 34  School Address                  300698 non-null  object        \n",
      " 35  School City                     300698 non-null  object        \n",
      " 36  School State                    300698 non-null  object        \n",
      " 37  School Zip                      300698 non-null  object        \n",
      " 38  School Not Found                300698 non-null  object        \n",
      " 39  School or Citywide Complaint    300698 non-null  float64       \n",
      " 40  Vehicle Type                    300698 non-null  float64       \n",
      " 41  Taxi Company Borough            300698 non-null  float64       \n",
      " 42  Taxi Pick Up Location           300698 non-null  float64       \n",
      " 43  Bridge Highway Name             300698 non-null  object        \n",
      " 44  Bridge Highway Direction        300698 non-null  object        \n",
      " 45  Road Ramp                       300698 non-null  object        \n",
      " 46  Bridge Highway Segment          300698 non-null  object        \n",
      " 47  Garage Lot Name                 300698 non-null  float64       \n",
      " 48  Ferry Direction                 300698 non-null  object        \n",
      " 49  Ferry Terminal Name             300698 non-null  object        \n",
      " 50  Latitude                        300698 non-null  float64       \n",
      " 51  Longitude                       300698 non-null  float64       \n",
      " 52  Location                        300698 non-null  object        \n",
      "dtypes: datetime64[ns](2), float64(10), int64(1), object(40)\n",
      "memory usage: 121.6+ MB\n"
     ]
    }
   ],
   "source": [
    "nyc.info()"
   ]
  },
  {
   "cell_type": "markdown",
   "metadata": {},
   "source": [
    "create a new column ‘Request_Closing_Time’ as the time elapsed between request creation and request closing."
   ]
  },
  {
   "cell_type": "code",
   "execution_count": 29,
   "metadata": {},
   "outputs": [],
   "source": [
    "nyc['Request_Closing_Time'] = (nyc['Closed Date']-nyc['Created Date'])"
   ]
  },
  {
   "cell_type": "code",
   "execution_count": 30,
   "metadata": {},
   "outputs": [
    {
     "data": {
      "text/plain": [
       "0        00:55:15\n",
       "1        01:26:16\n",
       "2        04:51:31\n",
       "3        07:45:14\n",
       "4        03:27:02\n",
       "           ...   \n",
       "300693   00:39:20\n",
       "300694   02:00:31\n",
       "300695   03:07:17\n",
       "300696   04:05:33\n",
       "300697   04:08:49\n",
       "Name: Request_Closing_Time, Length: 300698, dtype: timedelta64[ns]"
      ]
     },
     "execution_count": 30,
     "metadata": {},
     "output_type": "execute_result"
    }
   ],
   "source": [
    "nyc['Request_Closing_Time']"
   ]
  },
  {
   "cell_type": "code",
   "execution_count": 31,
   "metadata": {},
   "outputs": [
    {
     "data": {
      "text/plain": [
       "(300698, 54)"
      ]
     },
     "execution_count": 31,
     "metadata": {},
     "output_type": "execute_result"
    }
   ],
   "source": [
    "nyc.shape"
   ]
  },
  {
   "cell_type": "code",
   "execution_count": 32,
   "metadata": {},
   "outputs": [
    {
     "data": {
      "text/plain": [
       "Index(['Unique Key', 'Created Date', 'Closed Date', 'Agency', 'Agency Name',\n",
       "       'Complaint Type', 'Descriptor', 'Location Type', 'Incident Zip',\n",
       "       'Incident Address', 'Street Name', 'Cross Street 1', 'Cross Street 2',\n",
       "       'Intersection Street 1', 'Intersection Street 2', 'Address Type',\n",
       "       'City', 'Landmark', 'Facility Type', 'Status', 'Due Date',\n",
       "       'Resolution Description', 'Resolution Action Updated Date',\n",
       "       'Community Board', 'Borough', 'X Coordinate (State Plane)',\n",
       "       'Y Coordinate (State Plane)', 'Park Facility Name', 'Park Borough',\n",
       "       'School Name', 'School Number', 'School Region', 'School Code',\n",
       "       'School Phone Number', 'School Address', 'School City', 'School State',\n",
       "       'School Zip', 'School Not Found', 'School or Citywide Complaint',\n",
       "       'Vehicle Type', 'Taxi Company Borough', 'Taxi Pick Up Location',\n",
       "       'Bridge Highway Name', 'Bridge Highway Direction', 'Road Ramp',\n",
       "       'Bridge Highway Segment', 'Garage Lot Name', 'Ferry Direction',\n",
       "       'Ferry Terminal Name', 'Latitude', 'Longitude', 'Location',\n",
       "       'Request_Closing_Time'],\n",
       "      dtype='object')"
      ]
     },
     "execution_count": 32,
     "metadata": {},
     "output_type": "execute_result"
    }
   ],
   "source": [
    "nyc.columns"
   ]
  },
  {
   "cell_type": "code",
   "execution_count": 33,
   "metadata": {},
   "outputs": [
    {
     "data": {
      "text/plain": [
       "Unique Key                                  int64\n",
       "Created Date                       datetime64[ns]\n",
       "Closed Date                        datetime64[ns]\n",
       "Agency                                     object\n",
       "Agency Name                                object\n",
       "Complaint Type                             object\n",
       "Descriptor                                 object\n",
       "Location Type                              object\n",
       "Incident Zip                              float64\n",
       "Incident Address                           object\n",
       "Street Name                                object\n",
       "Cross Street 1                             object\n",
       "Cross Street 2                             object\n",
       "Intersection Street 1                      object\n",
       "Intersection Street 2                      object\n",
       "Address Type                               object\n",
       "City                                       object\n",
       "Landmark                                   object\n",
       "Facility Type                              object\n",
       "Status                                     object\n",
       "Due Date                                   object\n",
       "Resolution Description                     object\n",
       "Resolution Action Updated Date             object\n",
       "Community Board                            object\n",
       "Borough                                    object\n",
       "X Coordinate (State Plane)                float64\n",
       "Y Coordinate (State Plane)                float64\n",
       "Park Facility Name                         object\n",
       "Park Borough                               object\n",
       "School Name                                object\n",
       "School Number                              object\n",
       "School Region                              object\n",
       "School Code                                object\n",
       "School Phone Number                        object\n",
       "School Address                             object\n",
       "School City                                object\n",
       "School State                               object\n",
       "School Zip                                 object\n",
       "School Not Found                           object\n",
       "School or Citywide Complaint              float64\n",
       "Vehicle Type                              float64\n",
       "Taxi Company Borough                      float64\n",
       "Taxi Pick Up Location                     float64\n",
       "Bridge Highway Name                        object\n",
       "Bridge Highway Direction                   object\n",
       "Road Ramp                                  object\n",
       "Bridge Highway Segment                     object\n",
       "Garage Lot Name                           float64\n",
       "Ferry Direction                            object\n",
       "Ferry Terminal Name                        object\n",
       "Latitude                                  float64\n",
       "Longitude                                 float64\n",
       "Location                                   object\n",
       "Request_Closing_Time              timedelta64[ns]\n",
       "dtype: object"
      ]
     },
     "execution_count": 33,
     "metadata": {},
     "output_type": "execute_result"
    }
   ],
   "source": [
    "nyc.dtypes"
   ]
  },
  {
   "cell_type": "markdown",
   "metadata": {},
   "source": [
    "Provide major insights/patterns that you can offer in a visual format (graphs or tables); \n",
    "at least 4 major conclusions that you can come up with after generic data mining."
   ]
  },
  {
   "cell_type": "markdown",
   "metadata": {},
   "source": [
    "1. To find the data of various complaints using bar graphs"
   ]
  },
  {
   "cell_type": "code",
   "execution_count": 34,
   "metadata": {},
   "outputs": [
    {
     "data": {
      "image/png": "[encoded data removed]",
      "text/plain": [
       "<Figure size 432x288 with 1 Axes>"
      ]
     },
     "metadata": {
      "needs_background": "light"
     },
     "output_type": "display_data"
    }
   ],
   "source": [
    "nyc['Complaint Type'].value_counts().plot.bar()\n",
    "plt.title(\"The Total Complaint Types\")\n",
    "plt.show()"
   ]
  },
  {
   "cell_type": "markdown",
   "metadata": {},
   "source": [
    "2 To find the Complaint resolution status"
   ]
  },
  {
   "cell_type": "code",
   "execution_count": 35,
   "metadata": {},
   "outputs": [
    {
     "data": {
      "image/png": "[encoded data removed]",
      "text/plain": [
       "<Figure size 720x576 with 1 Axes>"
      ]
     },
     "metadata": {
      "needs_background": "light"
     },
     "output_type": "display_data"
    }
   ],
   "source": [
    "plt.figure(figsize=(10,8))\n",
    "nyc['Status'].hist(bins=70)\n",
    "plt.title(\"Complaints Resolution Status\")\n",
    "plt.xlabel(\"Status\")\n",
    "plt.show()"
   ]
  },
  {
   "cell_type": "markdown",
   "metadata": {},
   "source": [
    "3 The Agency Names which work on different complaints"
   ]
  },
  {
   "cell_type": "code",
   "execution_count": 36,
   "metadata": {},
   "outputs": [
    {
     "data": {
      "image/png": "[encoded data removed]",
      "text/plain": [
       "<Figure size 432x288 with 1 Axes>"
      ]
     },
     "metadata": {
      "needs_background": "light"
     },
     "output_type": "display_data"
    }
   ],
   "source": [
    "nyc.plot.scatter(x='Agency Name', y ='Complaint Type')\n",
    "plt.title(\"The Agency names who work on different complaints \")\n",
    "plt.grid(b=True, which='major',axis='y')\n",
    "plt.show()"
   ]
  },
  {
   "cell_type": "markdown",
   "metadata": {},
   "source": [
    "4 The relation between the time where complaints created and closed"
   ]
  },
  {
   "cell_type": "code",
   "execution_count": 37,
   "metadata": {},
   "outputs": [
    {
     "data": {
      "image/png": "[encoded data removed]",
      "text/plain": [
       "<Figure size 432x288 with 1 Axes>"
      ]
     },
     "metadata": {
      "needs_background": "light"
     },
     "output_type": "display_data"
    }
   ],
   "source": [
    "nyc.plot.scatter(x='Created Date', y ='Closed Date')\n",
    "plt.title(\"The relation between time taken to solve the complaints \")\n",
    "plt.grid(b=True, which='major',axis='y')\n",
    "plt.show()"
   ]
  },
  {
   "cell_type": "markdown",
   "metadata": {},
   "source": [
    "5 To find the correlation of the dataset and to plot a heatmap"
   ]
  },
  {
   "cell_type": "code",
   "execution_count": 38,
   "metadata": {},
   "outputs": [],
   "source": [
    "Data=nyc.corr()"
   ]
  },
  {
   "cell_type": "code",
   "execution_count": 39,
   "metadata": {},
   "outputs": [
    {
     "data": {
      "text/html": [
       "<div>\n",
       "<style scoped>\n",
       "    .dataframe tbody tr th:only-of-type {\n",
       "        vertical-align: middle;\n",
       "    }\n",
       "\n",
       "    .dataframe tbody tr th {\n",
       "        vertical-align: top;\n",
       "    }\n",
       "\n",
       "    .dataframe thead th {\n",
       "        text-align: right;\n",
       "    }\n",
       "</style>\n",
       "<table border=\"1\" class=\"dataframe\">\n",
       "  <thead>\n",
       "    <tr style=\"text-align: right;\">\n",
       "      <th></th>\n",
       "      <th>Unique Key</th>\n",
       "      <th>Incident Zip</th>\n",
       "      <th>X Coordinate (State Plane)</th>\n",
       "      <th>Y Coordinate (State Plane)</th>\n",
       "      <th>School or Citywide Complaint</th>\n",
       "      <th>Vehicle Type</th>\n",
       "      <th>Taxi Company Borough</th>\n",
       "      <th>Taxi Pick Up Location</th>\n",
       "      <th>Garage Lot Name</th>\n",
       "      <th>Latitude</th>\n",
       "      <th>Longitude</th>\n",
       "    </tr>\n",
       "  </thead>\n",
       "  <tbody>\n",
       "    <tr>\n",
       "      <th>Unique Key</th>\n",
       "      <td>1.000000</td>\n",
       "      <td>0.021146</td>\n",
       "      <td>0.010161</td>\n",
       "      <td>-0.018534</td>\n",
       "      <td>NaN</td>\n",
       "      <td>NaN</td>\n",
       "      <td>NaN</td>\n",
       "      <td>NaN</td>\n",
       "      <td>NaN</td>\n",
       "      <td>0.011585</td>\n",
       "      <td>-0.012271</td>\n",
       "    </tr>\n",
       "    <tr>\n",
       "      <th>Incident Zip</th>\n",
       "      <td>0.021146</td>\n",
       "      <td>1.000000</td>\n",
       "      <td>0.767150</td>\n",
       "      <td>0.242357</td>\n",
       "      <td>NaN</td>\n",
       "      <td>NaN</td>\n",
       "      <td>NaN</td>\n",
       "      <td>NaN</td>\n",
       "      <td>NaN</td>\n",
       "      <td>0.738355</td>\n",
       "      <td>-0.741140</td>\n",
       "    </tr>\n",
       "    <tr>\n",
       "      <th>X Coordinate (State Plane)</th>\n",
       "      <td>0.010161</td>\n",
       "      <td>0.767150</td>\n",
       "      <td>1.000000</td>\n",
       "      <td>0.640620</td>\n",
       "      <td>NaN</td>\n",
       "      <td>NaN</td>\n",
       "      <td>NaN</td>\n",
       "      <td>NaN</td>\n",
       "      <td>NaN</td>\n",
       "      <td>0.981824</td>\n",
       "      <td>-0.978710</td>\n",
       "    </tr>\n",
       "    <tr>\n",
       "      <th>Y Coordinate (State Plane)</th>\n",
       "      <td>-0.018534</td>\n",
       "      <td>0.242357</td>\n",
       "      <td>0.640620</td>\n",
       "      <td>1.000000</td>\n",
       "      <td>NaN</td>\n",
       "      <td>NaN</td>\n",
       "      <td>NaN</td>\n",
       "      <td>NaN</td>\n",
       "      <td>NaN</td>\n",
       "      <td>0.609595</td>\n",
       "      <td>-0.591878</td>\n",
       "    </tr>\n",
       "    <tr>\n",
       "      <th>School or Citywide Complaint</th>\n",
       "      <td>NaN</td>\n",
       "      <td>NaN</td>\n",
       "      <td>NaN</td>\n",
       "      <td>NaN</td>\n",
       "      <td>NaN</td>\n",
       "      <td>NaN</td>\n",
       "      <td>NaN</td>\n",
       "      <td>NaN</td>\n",
       "      <td>NaN</td>\n",
       "      <td>NaN</td>\n",
       "      <td>NaN</td>\n",
       "    </tr>\n",
       "    <tr>\n",
       "      <th>Vehicle Type</th>\n",
       "      <td>NaN</td>\n",
       "      <td>NaN</td>\n",
       "      <td>NaN</td>\n",
       "      <td>NaN</td>\n",
       "      <td>NaN</td>\n",
       "      <td>NaN</td>\n",
       "      <td>NaN</td>\n",
       "      <td>NaN</td>\n",
       "      <td>NaN</td>\n",
       "      <td>NaN</td>\n",
       "      <td>NaN</td>\n",
       "    </tr>\n",
       "    <tr>\n",
       "      <th>Taxi Company Borough</th>\n",
       "      <td>NaN</td>\n",
       "      <td>NaN</td>\n",
       "      <td>NaN</td>\n",
       "      <td>NaN</td>\n",
       "      <td>NaN</td>\n",
       "      <td>NaN</td>\n",
       "      <td>NaN</td>\n",
       "      <td>NaN</td>\n",
       "      <td>NaN</td>\n",
       "      <td>NaN</td>\n",
       "      <td>NaN</td>\n",
       "    </tr>\n",
       "    <tr>\n",
       "      <th>Taxi Pick Up Location</th>\n",
       "      <td>NaN</td>\n",
       "      <td>NaN</td>\n",
       "      <td>NaN</td>\n",
       "      <td>NaN</td>\n",
       "      <td>NaN</td>\n",
       "      <td>NaN</td>\n",
       "      <td>NaN</td>\n",
       "      <td>NaN</td>\n",
       "      <td>NaN</td>\n",
       "      <td>NaN</td>\n",
       "      <td>NaN</td>\n",
       "    </tr>\n",
       "    <tr>\n",
       "      <th>Garage Lot Name</th>\n",
       "      <td>NaN</td>\n",
       "      <td>NaN</td>\n",
       "      <td>NaN</td>\n",
       "      <td>NaN</td>\n",
       "      <td>NaN</td>\n",
       "      <td>NaN</td>\n",
       "      <td>NaN</td>\n",
       "      <td>NaN</td>\n",
       "      <td>NaN</td>\n",
       "      <td>NaN</td>\n",
       "      <td>NaN</td>\n",
       "    </tr>\n",
       "    <tr>\n",
       "      <th>Latitude</th>\n",
       "      <td>0.011585</td>\n",
       "      <td>0.738355</td>\n",
       "      <td>0.981824</td>\n",
       "      <td>0.609595</td>\n",
       "      <td>NaN</td>\n",
       "      <td>NaN</td>\n",
       "      <td>NaN</td>\n",
       "      <td>NaN</td>\n",
       "      <td>NaN</td>\n",
       "      <td>1.000000</td>\n",
       "      <td>-0.999714</td>\n",
       "    </tr>\n",
       "    <tr>\n",
       "      <th>Longitude</th>\n",
       "      <td>-0.012271</td>\n",
       "      <td>-0.741140</td>\n",
       "      <td>-0.978710</td>\n",
       "      <td>-0.591878</td>\n",
       "      <td>NaN</td>\n",
       "      <td>NaN</td>\n",
       "      <td>NaN</td>\n",
       "      <td>NaN</td>\n",
       "      <td>NaN</td>\n",
       "      <td>-0.999714</td>\n",
       "      <td>1.000000</td>\n",
       "    </tr>\n",
       "  </tbody>\n",
       "</table>\n",
       "</div>"
      ],
      "text/plain": [
       "                              Unique Key  Incident Zip  \\\n",
       "Unique Key                      1.000000      0.021146   \n",
       "Incident Zip                    0.021146      1.000000   \n",
       "X Coordinate (State Plane)      0.010161      0.767150   \n",
       "Y Coordinate (State Plane)     -0.018534      0.242357   \n",
       "School or Citywide Complaint         NaN           NaN   \n",
       "Vehicle Type                         NaN           NaN   \n",
       "Taxi Company Borough                 NaN           NaN   \n",
       "Taxi Pick Up Location                NaN           NaN   \n",
       "Garage Lot Name                      NaN           NaN   \n",
       "Latitude                        0.011585      0.738355   \n",
       "Longitude                      -0.012271     -0.741140   \n",
       "\n",
       "                              X Coordinate (State Plane)  \\\n",
       "Unique Key                                      0.010161   \n",
       "Incident Zip                                    0.767150   \n",
       "X Coordinate (State Plane)                      1.000000   \n",
       "Y Coordinate (State Plane)                      0.640620   \n",
       "School or Citywide Complaint                         NaN   \n",
       "Vehicle Type                                         NaN   \n",
       "Taxi Company Borough                                 NaN   \n",
       "Taxi Pick Up Location                                NaN   \n",
       "Garage Lot Name                                      NaN   \n",
       "Latitude                                        0.981824   \n",
       "Longitude                                      -0.978710   \n",
       "\n",
       "                              Y Coordinate (State Plane)  \\\n",
       "Unique Key                                     -0.018534   \n",
       "Incident Zip                                    0.242357   \n",
       "X Coordinate (State Plane)                      0.640620   \n",
       "Y Coordinate (State Plane)                      1.000000   \n",
       "School or Citywide Complaint                         NaN   \n",
       "Vehicle Type                                         NaN   \n",
       "Taxi Company Borough                                 NaN   \n",
       "Taxi Pick Up Location                                NaN   \n",
       "Garage Lot Name                                      NaN   \n",
       "Latitude                                        0.609595   \n",
       "Longitude                                      -0.591878   \n",
       "\n",
       "                              School or Citywide Complaint  Vehicle Type  \\\n",
       "Unique Key                                             NaN           NaN   \n",
       "Incident Zip                                           NaN           NaN   \n",
       "X Coordinate (State Plane)                             NaN           NaN   \n",
       "Y Coordinate (State Plane)                             NaN           NaN   \n",
       "School or Citywide Complaint                           NaN           NaN   \n",
       "Vehicle Type                                           NaN           NaN   \n",
       "Taxi Company Borough                                   NaN           NaN   \n",
       "Taxi Pick Up Location                                  NaN           NaN   \n",
       "Garage Lot Name                                        NaN           NaN   \n",
       "Latitude                                               NaN           NaN   \n",
       "Longitude                                              NaN           NaN   \n",
       "\n",
       "                              Taxi Company Borough  Taxi Pick Up Location  \\\n",
       "Unique Key                                     NaN                    NaN   \n",
       "Incident Zip                                   NaN                    NaN   \n",
       "X Coordinate (State Plane)                     NaN                    NaN   \n",
       "Y Coordinate (State Plane)                     NaN                    NaN   \n",
       "School or Citywide Complaint                   NaN                    NaN   \n",
       "Vehicle Type                                   NaN                    NaN   \n",
       "Taxi Company Borough                           NaN                    NaN   \n",
       "Taxi Pick Up Location                          NaN                    NaN   \n",
       "Garage Lot Name                                NaN                    NaN   \n",
       "Latitude                                       NaN                    NaN   \n",
       "Longitude                                      NaN                    NaN   \n",
       "\n",
       "                              Garage Lot Name  Latitude  Longitude  \n",
       "Unique Key                                NaN  0.011585  -0.012271  \n",
       "Incident Zip                              NaN  0.738355  -0.741140  \n",
       "X Coordinate (State Plane)                NaN  0.981824  -0.978710  \n",
       "Y Coordinate (State Plane)                NaN  0.609595  -0.591878  \n",
       "School or Citywide Complaint              NaN       NaN        NaN  \n",
       "Vehicle Type                              NaN       NaN        NaN  \n",
       "Taxi Company Borough                      NaN       NaN        NaN  \n",
       "Taxi Pick Up Location                     NaN       NaN        NaN  \n",
       "Garage Lot Name                           NaN       NaN        NaN  \n",
       "Latitude                                  NaN  1.000000  -0.999714  \n",
       "Longitude                                 NaN -0.999714   1.000000  "
      ]
     },
     "execution_count": 39,
     "metadata": {},
     "output_type": "execute_result"
    }
   ],
   "source": [
    "Data"
   ]
  },
  {
   "cell_type": "code",
   "execution_count": 40,
   "metadata": {},
   "outputs": [
    {
     "data": {
      "text/html": [
       "<div>\n",
       "<style scoped>\n",
       "    .dataframe tbody tr th:only-of-type {\n",
       "        vertical-align: middle;\n",
       "    }\n",
       "\n",
       "    .dataframe tbody tr th {\n",
       "        vertical-align: top;\n",
       "    }\n",
       "\n",
       "    .dataframe thead th {\n",
       "        text-align: right;\n",
       "    }\n",
       "</style>\n",
       "<table border=\"1\" class=\"dataframe\">\n",
       "  <thead>\n",
       "    <tr style=\"text-align: right;\">\n",
       "      <th></th>\n",
       "      <th>Unique Key</th>\n",
       "      <th>Incident Zip</th>\n",
       "      <th>X Coordinate (State Plane)</th>\n",
       "      <th>Y Coordinate (State Plane)</th>\n",
       "      <th>School or Citywide Complaint</th>\n",
       "      <th>Vehicle Type</th>\n",
       "      <th>Taxi Company Borough</th>\n",
       "      <th>Taxi Pick Up Location</th>\n",
       "      <th>Garage Lot Name</th>\n",
       "      <th>Latitude</th>\n",
       "      <th>Longitude</th>\n",
       "    </tr>\n",
       "  </thead>\n",
       "  <tbody>\n",
       "    <tr>\n",
       "      <th>Unique Key</th>\n",
       "      <td>1.000000</td>\n",
       "      <td>0.021146</td>\n",
       "      <td>0.010161</td>\n",
       "      <td>-0.018534</td>\n",
       "      <td>0.0</td>\n",
       "      <td>0.0</td>\n",
       "      <td>0.0</td>\n",
       "      <td>0.0</td>\n",
       "      <td>0.0</td>\n",
       "      <td>0.011585</td>\n",
       "      <td>-0.012271</td>\n",
       "    </tr>\n",
       "    <tr>\n",
       "      <th>Incident Zip</th>\n",
       "      <td>0.021146</td>\n",
       "      <td>1.000000</td>\n",
       "      <td>0.767150</td>\n",
       "      <td>0.242357</td>\n",
       "      <td>0.0</td>\n",
       "      <td>0.0</td>\n",
       "      <td>0.0</td>\n",
       "      <td>0.0</td>\n",
       "      <td>0.0</td>\n",
       "      <td>0.738355</td>\n",
       "      <td>-0.741140</td>\n",
       "    </tr>\n",
       "    <tr>\n",
       "      <th>X Coordinate (State Plane)</th>\n",
       "      <td>0.010161</td>\n",
       "      <td>0.767150</td>\n",
       "      <td>1.000000</td>\n",
       "      <td>0.640620</td>\n",
       "      <td>0.0</td>\n",
       "      <td>0.0</td>\n",
       "      <td>0.0</td>\n",
       "      <td>0.0</td>\n",
       "      <td>0.0</td>\n",
       "      <td>0.981824</td>\n",
       "      <td>-0.978710</td>\n",
       "    </tr>\n",
       "    <tr>\n",
       "      <th>Y Coordinate (State Plane)</th>\n",
       "      <td>-0.018534</td>\n",
       "      <td>0.242357</td>\n",
       "      <td>0.640620</td>\n",
       "      <td>1.000000</td>\n",
       "      <td>0.0</td>\n",
       "      <td>0.0</td>\n",
       "      <td>0.0</td>\n",
       "      <td>0.0</td>\n",
       "      <td>0.0</td>\n",
       "      <td>0.609595</td>\n",
       "      <td>-0.591878</td>\n",
       "    </tr>\n",
       "    <tr>\n",
       "      <th>School or Citywide Complaint</th>\n",
       "      <td>0.000000</td>\n",
       "      <td>0.000000</td>\n",
       "      <td>0.000000</td>\n",
       "      <td>0.000000</td>\n",
       "      <td>0.0</td>\n",
       "      <td>0.0</td>\n",
       "      <td>0.0</td>\n",
       "      <td>0.0</td>\n",
       "      <td>0.0</td>\n",
       "      <td>0.000000</td>\n",
       "      <td>0.000000</td>\n",
       "    </tr>\n",
       "    <tr>\n",
       "      <th>Vehicle Type</th>\n",
       "      <td>0.000000</td>\n",
       "      <td>0.000000</td>\n",
       "      <td>0.000000</td>\n",
       "      <td>0.000000</td>\n",
       "      <td>0.0</td>\n",
       "      <td>0.0</td>\n",
       "      <td>0.0</td>\n",
       "      <td>0.0</td>\n",
       "      <td>0.0</td>\n",
       "      <td>0.000000</td>\n",
       "      <td>0.000000</td>\n",
       "    </tr>\n",
       "    <tr>\n",
       "      <th>Taxi Company Borough</th>\n",
       "      <td>0.000000</td>\n",
       "      <td>0.000000</td>\n",
       "      <td>0.000000</td>\n",
       "      <td>0.000000</td>\n",
       "      <td>0.0</td>\n",
       "      <td>0.0</td>\n",
       "      <td>0.0</td>\n",
       "      <td>0.0</td>\n",
       "      <td>0.0</td>\n",
       "      <td>0.000000</td>\n",
       "      <td>0.000000</td>\n",
       "    </tr>\n",
       "    <tr>\n",
       "      <th>Taxi Pick Up Location</th>\n",
       "      <td>0.000000</td>\n",
       "      <td>0.000000</td>\n",
       "      <td>0.000000</td>\n",
       "      <td>0.000000</td>\n",
       "      <td>0.0</td>\n",
       "      <td>0.0</td>\n",
       "      <td>0.0</td>\n",
       "      <td>0.0</td>\n",
       "      <td>0.0</td>\n",
       "      <td>0.000000</td>\n",
       "      <td>0.000000</td>\n",
       "    </tr>\n",
       "    <tr>\n",
       "      <th>Garage Lot Name</th>\n",
       "      <td>0.000000</td>\n",
       "      <td>0.000000</td>\n",
       "      <td>0.000000</td>\n",
       "      <td>0.000000</td>\n",
       "      <td>0.0</td>\n",
       "      <td>0.0</td>\n",
       "      <td>0.0</td>\n",
       "      <td>0.0</td>\n",
       "      <td>0.0</td>\n",
       "      <td>0.000000</td>\n",
       "      <td>0.000000</td>\n",
       "    </tr>\n",
       "    <tr>\n",
       "      <th>Latitude</th>\n",
       "      <td>0.011585</td>\n",
       "      <td>0.738355</td>\n",
       "      <td>0.981824</td>\n",
       "      <td>0.609595</td>\n",
       "      <td>0.0</td>\n",
       "      <td>0.0</td>\n",
       "      <td>0.0</td>\n",
       "      <td>0.0</td>\n",
       "      <td>0.0</td>\n",
       "      <td>1.000000</td>\n",
       "      <td>-0.999714</td>\n",
       "    </tr>\n",
       "    <tr>\n",
       "      <th>Longitude</th>\n",
       "      <td>-0.012271</td>\n",
       "      <td>-0.741140</td>\n",
       "      <td>-0.978710</td>\n",
       "      <td>-0.591878</td>\n",
       "      <td>0.0</td>\n",
       "      <td>0.0</td>\n",
       "      <td>0.0</td>\n",
       "      <td>0.0</td>\n",
       "      <td>0.0</td>\n",
       "      <td>-0.999714</td>\n",
       "      <td>1.000000</td>\n",
       "    </tr>\n",
       "  </tbody>\n",
       "</table>\n",
       "</div>"
      ],
      "text/plain": [
       "                              Unique Key  Incident Zip  \\\n",
       "Unique Key                      1.000000      0.021146   \n",
       "Incident Zip                    0.021146      1.000000   \n",
       "X Coordinate (State Plane)      0.010161      0.767150   \n",
       "Y Coordinate (State Plane)     -0.018534      0.242357   \n",
       "School or Citywide Complaint    0.000000      0.000000   \n",
       "Vehicle Type                    0.000000      0.000000   \n",
       "Taxi Company Borough            0.000000      0.000000   \n",
       "Taxi Pick Up Location           0.000000      0.000000   \n",
       "Garage Lot Name                 0.000000      0.000000   \n",
       "Latitude                        0.011585      0.738355   \n",
       "Longitude                      -0.012271     -0.741140   \n",
       "\n",
       "                              X Coordinate (State Plane)  \\\n",
       "Unique Key                                      0.010161   \n",
       "Incident Zip                                    0.767150   \n",
       "X Coordinate (State Plane)                      1.000000   \n",
       "Y Coordinate (State Plane)                      0.640620   \n",
       "School or Citywide Complaint                    0.000000   \n",
       "Vehicle Type                                    0.000000   \n",
       "Taxi Company Borough                            0.000000   \n",
       "Taxi Pick Up Location                           0.000000   \n",
       "Garage Lot Name                                 0.000000   \n",
       "Latitude                                        0.981824   \n",
       "Longitude                                      -0.978710   \n",
       "\n",
       "                              Y Coordinate (State Plane)  \\\n",
       "Unique Key                                     -0.018534   \n",
       "Incident Zip                                    0.242357   \n",
       "X Coordinate (State Plane)                      0.640620   \n",
       "Y Coordinate (State Plane)                      1.000000   \n",
       "School or Citywide Complaint                    0.000000   \n",
       "Vehicle Type                                    0.000000   \n",
       "Taxi Company Borough                            0.000000   \n",
       "Taxi Pick Up Location                           0.000000   \n",
       "Garage Lot Name                                 0.000000   \n",
       "Latitude                                        0.609595   \n",
       "Longitude                                      -0.591878   \n",
       "\n",
       "                              School or Citywide Complaint  Vehicle Type  \\\n",
       "Unique Key                                             0.0           0.0   \n",
       "Incident Zip                                           0.0           0.0   \n",
       "X Coordinate (State Plane)                             0.0           0.0   \n",
       "Y Coordinate (State Plane)                             0.0           0.0   \n",
       "School or Citywide Complaint                           0.0           0.0   \n",
       "Vehicle Type                                           0.0           0.0   \n",
       "Taxi Company Borough                                   0.0           0.0   \n",
       "Taxi Pick Up Location                                  0.0           0.0   \n",
       "Garage Lot Name                                        0.0           0.0   \n",
       "Latitude                                               0.0           0.0   \n",
       "Longitude                                              0.0           0.0   \n",
       "\n",
       "                              Taxi Company Borough  Taxi Pick Up Location  \\\n",
       "Unique Key                                     0.0                    0.0   \n",
       "Incident Zip                                   0.0                    0.0   \n",
       "X Coordinate (State Plane)                     0.0                    0.0   \n",
       "Y Coordinate (State Plane)                     0.0                    0.0   \n",
       "School or Citywide Complaint                   0.0                    0.0   \n",
       "Vehicle Type                                   0.0                    0.0   \n",
       "Taxi Company Borough                           0.0                    0.0   \n",
       "Taxi Pick Up Location                          0.0                    0.0   \n",
       "Garage Lot Name                                0.0                    0.0   \n",
       "Latitude                                       0.0                    0.0   \n",
       "Longitude                                      0.0                    0.0   \n",
       "\n",
       "                              Garage Lot Name  Latitude  Longitude  \n",
       "Unique Key                                0.0  0.011585  -0.012271  \n",
       "Incident Zip                              0.0  0.738355  -0.741140  \n",
       "X Coordinate (State Plane)                0.0  0.981824  -0.978710  \n",
       "Y Coordinate (State Plane)                0.0  0.609595  -0.591878  \n",
       "School or Citywide Complaint              0.0  0.000000   0.000000  \n",
       "Vehicle Type                              0.0  0.000000   0.000000  \n",
       "Taxi Company Borough                      0.0  0.000000   0.000000  \n",
       "Taxi Pick Up Location                     0.0  0.000000   0.000000  \n",
       "Garage Lot Name                           0.0  0.000000   0.000000  \n",
       "Latitude                                  0.0  1.000000  -0.999714  \n",
       "Longitude                                 0.0 -0.999714   1.000000  "
      ]
     },
     "execution_count": 40,
     "metadata": {},
     "output_type": "execute_result"
    }
   ],
   "source": [
    "Data.fillna(0)"
   ]
  },
  {
   "cell_type": "markdown",
   "metadata": {},
   "source": [
    "5 To display the heatmap for correlation of the dataset"
   ]
  },
  {
   "cell_type": "code",
   "execution_count": 41,
   "metadata": {},
   "outputs": [
    {
     "data": {
      "text/plain": [
       "<matplotlib.axes._subplots.AxesSubplot at 0x221131d1ac8>"
      ]
     },
     "execution_count": 41,
     "metadata": {},
     "output_type": "execute_result"
    },
    {
     "data": {
      "image/png": "[encoded data removed]",
      "text/plain": [
       "<Figure size 432x288 with 2 Axes>"
      ]
     },
     "metadata": {
      "needs_background": "light"
     },
     "output_type": "display_data"
    }
   ],
   "source": [
    "sns.heatmap(Data)"
   ]
  },
  {
   "cell_type": "markdown",
   "metadata": {},
   "source": [
    "Order the complaint types based on the average ‘Request_Closing_Time’, grouping them for different locations."
   ]
  },
  {
   "cell_type": "code",
   "execution_count": 42,
   "metadata": {},
   "outputs": [
    {
     "data": {
      "text/plain": [
       "0        00:55:15\n",
       "1        01:26:16\n",
       "2        04:51:31\n",
       "3        07:45:14\n",
       "4        03:27:02\n",
       "           ...   \n",
       "300693   00:39:20\n",
       "300694   02:00:31\n",
       "300695   03:07:17\n",
       "300696   04:05:33\n",
       "300697   04:08:49\n",
       "Name: Request_Closing_Time, Length: 300698, dtype: timedelta64[ns]"
      ]
     },
     "execution_count": 42,
     "metadata": {},
     "output_type": "execute_result"
    }
   ],
   "source": [
    "nyc['Request_Closing_Time']"
   ]
  },
  {
   "cell_type": "code",
   "execution_count": 43,
   "metadata": {},
   "outputs": [
    {
     "data": {
      "text/plain": [
       "array(['Noise - Street/Sidewalk', 'Blocked Driveway', 'Illegal Parking',\n",
       "       'Derelict Vehicle', 'Noise - Commercial',\n",
       "       'Noise - House of Worship', 'Posting Advertisement',\n",
       "       'Noise - Vehicle', 'Animal Abuse', 'Vending', 'Traffic',\n",
       "       'Drinking', 'Bike/Roller/Skate Chronic', 'Panhandling',\n",
       "       'Noise - Park', 'Homeless Encampment', 'Urinating in Public',\n",
       "       'Graffiti', 'Disorderly Youth', 'Illegal Fireworks',\n",
       "       'Ferry Complaint', 'Agency Issues', 'Squeegee', 'Animal in a Park'],\n",
       "      dtype=object)"
      ]
     },
     "execution_count": 43,
     "metadata": {},
     "output_type": "execute_result"
    }
   ],
   "source": [
    "nyc['Complaint Type'].unique()"
   ]
  },
  {
   "cell_type": "code",
   "execution_count": 44,
   "metadata": {},
   "outputs": [
    {
     "data": {
      "text/plain": [
       "array(['Street/Sidewalk', 'Club/Bar/Restaurant', 'Store/Commercial',\n",
       "       'House of Worship', 'Residential Building/House',\n",
       "       'Residential Building', 'Park/Playground', 'Vacant Lot',\n",
       "       'House and Store', 'Highway', 'Commercial', 'Roadway Tunnel',\n",
       "       'Subway Station', 'Parking Lot', 'Bridge', 'Terminal', 0, 'Ferry',\n",
       "       'Park'], dtype=object)"
      ]
     },
     "execution_count": 44,
     "metadata": {},
     "output_type": "execute_result"
    }
   ],
   "source": [
    "nyc['Location Type'].unique()"
   ]
  },
  {
   "cell_type": "code",
   "execution_count": 45,
   "metadata": {},
   "outputs": [],
   "source": [
    "newnyc=nyc[['Created Date','Closed Date','Request_Closing_Time','Complaint Type','Location Type']]"
   ]
  },
  {
   "cell_type": "code",
   "execution_count": 46,
   "metadata": {},
   "outputs": [
    {
     "data": {
      "text/html": [
       "<div>\n",
       "<style scoped>\n",
       "    .dataframe tbody tr th:only-of-type {\n",
       "        vertical-align: middle;\n",
       "    }\n",
       "\n",
       "    .dataframe tbody tr th {\n",
       "        vertical-align: top;\n",
       "    }\n",
       "\n",
       "    .dataframe thead th {\n",
       "        text-align: right;\n",
       "    }\n",
       "</style>\n",
       "<table border=\"1\" class=\"dataframe\">\n",
       "  <thead>\n",
       "    <tr style=\"text-align: right;\">\n",
       "      <th></th>\n",
       "      <th>Created Date</th>\n",
       "      <th>Closed Date</th>\n",
       "      <th>Request_Closing_Time</th>\n",
       "      <th>Complaint Type</th>\n",
       "      <th>Location Type</th>\n",
       "    </tr>\n",
       "  </thead>\n",
       "  <tbody>\n",
       "    <tr>\n",
       "      <th>0</th>\n",
       "      <td>2015-12-31 23:59:45</td>\n",
       "      <td>2016-01-01 00:55:00</td>\n",
       "      <td>00:55:15</td>\n",
       "      <td>Noise - Street/Sidewalk</td>\n",
       "      <td>Street/Sidewalk</td>\n",
       "    </tr>\n",
       "    <tr>\n",
       "      <th>1</th>\n",
       "      <td>2015-12-31 23:59:44</td>\n",
       "      <td>2016-01-01 01:26:00</td>\n",
       "      <td>01:26:16</td>\n",
       "      <td>Blocked Driveway</td>\n",
       "      <td>Street/Sidewalk</td>\n",
       "    </tr>\n",
       "    <tr>\n",
       "      <th>2</th>\n",
       "      <td>2015-12-31 23:59:29</td>\n",
       "      <td>2016-01-01 04:51:00</td>\n",
       "      <td>04:51:31</td>\n",
       "      <td>Blocked Driveway</td>\n",
       "      <td>Street/Sidewalk</td>\n",
       "    </tr>\n",
       "    <tr>\n",
       "      <th>3</th>\n",
       "      <td>2015-12-31 23:57:46</td>\n",
       "      <td>2016-01-01 07:43:00</td>\n",
       "      <td>07:45:14</td>\n",
       "      <td>Illegal Parking</td>\n",
       "      <td>Street/Sidewalk</td>\n",
       "    </tr>\n",
       "    <tr>\n",
       "      <th>4</th>\n",
       "      <td>2015-12-31 23:56:58</td>\n",
       "      <td>2016-01-01 03:24:00</td>\n",
       "      <td>03:27:02</td>\n",
       "      <td>Illegal Parking</td>\n",
       "      <td>Street/Sidewalk</td>\n",
       "    </tr>\n",
       "    <tr>\n",
       "      <th>...</th>\n",
       "      <td>...</td>\n",
       "      <td>...</td>\n",
       "      <td>...</td>\n",
       "      <td>...</td>\n",
       "      <td>...</td>\n",
       "    </tr>\n",
       "    <tr>\n",
       "      <th>300693</th>\n",
       "      <td>2015-03-29 00:33:41</td>\n",
       "      <td>2015-03-29 01:13:01</td>\n",
       "      <td>00:39:20</td>\n",
       "      <td>Noise - Commercial</td>\n",
       "      <td>Club/Bar/Restaurant</td>\n",
       "    </tr>\n",
       "    <tr>\n",
       "      <th>300694</th>\n",
       "      <td>2015-03-29 00:33:28</td>\n",
       "      <td>2015-03-29 02:33:59</td>\n",
       "      <td>02:00:31</td>\n",
       "      <td>Blocked Driveway</td>\n",
       "      <td>Street/Sidewalk</td>\n",
       "    </tr>\n",
       "    <tr>\n",
       "      <th>300695</th>\n",
       "      <td>2015-03-29 00:33:03</td>\n",
       "      <td>2015-03-29 03:40:20</td>\n",
       "      <td>03:07:17</td>\n",
       "      <td>Noise - Commercial</td>\n",
       "      <td>Club/Bar/Restaurant</td>\n",
       "    </tr>\n",
       "    <tr>\n",
       "      <th>300696</th>\n",
       "      <td>2015-03-29 00:33:02</td>\n",
       "      <td>2015-03-29 04:38:35</td>\n",
       "      <td>04:05:33</td>\n",
       "      <td>Noise - Commercial</td>\n",
       "      <td>Club/Bar/Restaurant</td>\n",
       "    </tr>\n",
       "    <tr>\n",
       "      <th>300697</th>\n",
       "      <td>2015-03-29 00:33:01</td>\n",
       "      <td>2015-03-29 04:41:50</td>\n",
       "      <td>04:08:49</td>\n",
       "      <td>Noise - Commercial</td>\n",
       "      <td>Store/Commercial</td>\n",
       "    </tr>\n",
       "  </tbody>\n",
       "</table>\n",
       "<p>300698 rows × 5 columns</p>\n",
       "</div>"
      ],
      "text/plain": [
       "              Created Date         Closed Date Request_Closing_Time  \\\n",
       "0      2015-12-31 23:59:45 2016-01-01 00:55:00             00:55:15   \n",
       "1      2015-12-31 23:59:44 2016-01-01 01:26:00             01:26:16   \n",
       "2      2015-12-31 23:59:29 2016-01-01 04:51:00             04:51:31   \n",
       "3      2015-12-31 23:57:46 2016-01-01 07:43:00             07:45:14   \n",
       "4      2015-12-31 23:56:58 2016-01-01 03:24:00             03:27:02   \n",
       "...                    ...                 ...                  ...   \n",
       "300693 2015-03-29 00:33:41 2015-03-29 01:13:01             00:39:20   \n",
       "300694 2015-03-29 00:33:28 2015-03-29 02:33:59             02:00:31   \n",
       "300695 2015-03-29 00:33:03 2015-03-29 03:40:20             03:07:17   \n",
       "300696 2015-03-29 00:33:02 2015-03-29 04:38:35             04:05:33   \n",
       "300697 2015-03-29 00:33:01 2015-03-29 04:41:50             04:08:49   \n",
       "\n",
       "                 Complaint Type        Location Type  \n",
       "0       Noise - Street/Sidewalk      Street/Sidewalk  \n",
       "1              Blocked Driveway      Street/Sidewalk  \n",
       "2              Blocked Driveway      Street/Sidewalk  \n",
       "3               Illegal Parking      Street/Sidewalk  \n",
       "4               Illegal Parking      Street/Sidewalk  \n",
       "...                         ...                  ...  \n",
       "300693       Noise - Commercial  Club/Bar/Restaurant  \n",
       "300694         Blocked Driveway      Street/Sidewalk  \n",
       "300695       Noise - Commercial  Club/Bar/Restaurant  \n",
       "300696       Noise - Commercial  Club/Bar/Restaurant  \n",
       "300697       Noise - Commercial     Store/Commercial  \n",
       "\n",
       "[300698 rows x 5 columns]"
      ]
     },
     "execution_count": 46,
     "metadata": {},
     "output_type": "execute_result"
    }
   ],
   "source": [
    "newnyc"
   ]
  },
  {
   "cell_type": "code",
   "execution_count": 47,
   "metadata": {},
   "outputs": [],
   "source": [
    "nyc['Request_Closing_Hours']=nyc['Request_Closing_Time'].astype('timedelta64[h]')+1"
   ]
  },
  {
   "cell_type": "code",
   "execution_count": 48,
   "metadata": {},
   "outputs": [
    {
     "data": {
      "text/plain": [
       "dtype('float64')"
      ]
     },
     "execution_count": 48,
     "metadata": {},
     "output_type": "execute_result"
    }
   ],
   "source": [
    "nyc['Request_Closing_Hours'].dtype"
   ]
  },
  {
   "cell_type": "code",
   "execution_count": 50,
   "metadata": {},
   "outputs": [],
   "source": [
    "avg_rch=nyc['Request_Closing_Hours'].mean()"
   ]
  },
  {
   "cell_type": "code",
   "execution_count": 51,
   "metadata": {},
   "outputs": [
    {
     "data": {
      "text/plain": [
       "4.823450771205661"
      ]
     },
     "execution_count": 51,
     "metadata": {},
     "output_type": "execute_result"
    }
   ],
   "source": [
    "avg_rch"
   ]
  },
  {
   "cell_type": "code",
   "execution_count": 52,
   "metadata": {},
   "outputs": [],
   "source": [
    "std_rch=nyc['Request_Closing_Hours'].std()"
   ]
  },
  {
   "cell_type": "code",
   "execution_count": 53,
   "metadata": {},
   "outputs": [
    {
     "data": {
      "text/plain": [
       "6.081617674412312"
      ]
     },
     "execution_count": 53,
     "metadata": {},
     "output_type": "execute_result"
    }
   ],
   "source": [
    "std_rch"
   ]
  },
  {
   "cell_type": "code",
   "execution_count": 54,
   "metadata": {},
   "outputs": [],
   "source": [
    "plot_data=nyc[((nyc['Request_Closing_Hours']-avg_rch)/std_rch)<1]"
   ]
  },
  {
   "cell_type": "code",
   "execution_count": 92,
   "metadata": {},
   "outputs": [
    {
     "data": {
      "image/png": "[encoded data removed]",
      "text/plain": [
       "<Figure size 432x288 with 1 Axes>"
      ]
     },
     "metadata": {
      "needs_background": "light"
     },
     "output_type": "display_data"
    }
   ],
   "source": [
    "plot_data['Request_Closing_Hours'].hist(bins=10)\n",
    "plt.xlabel('Time taken to resolve cases')\n",
    "plt.ylabel('# of compliants')\n",
    "plt.title('Complaints closed within average time')\n",
    "plt.show()"
   ]
  },
  {
   "cell_type": "markdown",
   "metadata": {},
   "source": [
    "Null Hypothesis along with the corresponding ‘p-value’.\n",
    "\n",
    "Whether the average response time across complaint types is similar or not (overall)\n",
    "Are the type of complaint or service requested and location related?"
   ]
  },
  {
   "cell_type": "markdown",
   "metadata": {},
   "source": [
    "Hypothesis Testing:\n",
    "    \n",
    "    H0 : There is no effect of factors like type of complaint or  service requested and location in resolving the complaints\n",
    "    \n",
    "    H1 : There is an effect"
   ]
  },
  {
   "cell_type": "code",
   "execution_count": 59,
   "metadata": {},
   "outputs": [],
   "source": [
    "from scipy import stats"
   ]
  },
  {
   "cell_type": "code",
   "execution_count": 60,
   "metadata": {},
   "outputs": [],
   "source": [
    "from scipy.stats import f_oneway"
   ]
  },
  {
   "cell_type": "code",
   "execution_count": null,
   "metadata": {},
   "outputs": [],
   "source": [
    "# to check the normal distribution"
   ]
  },
  {
   "cell_type": "code",
   "execution_count": 61,
   "metadata": {},
   "outputs": [
    {
     "name": "stdout",
     "output_type": "stream",
     "text": [
      "(0.5102815628051758, 0.0)\n"
     ]
    },
    {
     "name": "stderr",
     "output_type": "stream",
     "text": [
      "C:\\Users\\HOME\\anaconda3\\lib\\site-packages\\scipy\\stats\\morestats.py:1676: UserWarning: p-value may not be accurate for N > 5000.\n",
      "  warnings.warn(\"p-value may not be accurate for N > 5000.\")\n"
     ]
    }
   ],
   "source": [
    "print(stats.shapiro(nyc.Request_Closing_Hours))"
   ]
  },
  {
   "cell_type": "code",
   "execution_count": null,
   "metadata": {},
   "outputs": [],
   "source": [
    "# P - Value is 0.51"
   ]
  },
  {
   "cell_type": "code",
   "execution_count": 71,
   "metadata": {},
   "outputs": [],
   "source": [
    "count=pd.crosstab(nyc['Complaint Type'], nyc['Complaint Type']).max().sort_values(ascending=False)"
   ]
  },
  {
   "cell_type": "code",
   "execution_count": 72,
   "metadata": {},
   "outputs": [
    {
     "data": {
      "text/plain": [
       "Complaint Type\n",
       "Blocked Driveway             77044\n",
       "Illegal Parking              75361\n",
       "Noise - Street/Sidewalk      48612\n",
       "Noise - Commercial           35577\n",
       "Derelict Vehicle             17718\n",
       "Noise - Vehicle              17083\n",
       "Animal Abuse                  7778\n",
       "Traffic                       4498\n",
       "Homeless Encampment           4416\n",
       "Noise - Park                  4042\n",
       "Vending                       3802\n",
       "Drinking                      1280\n",
       "Noise - House of Worship       931\n",
       "Posting Advertisement          650\n",
       "Urinating in Public            592\n",
       "Bike/Roller/Skate Chronic      427\n",
       "Panhandling                    307\n",
       "Disorderly Youth               286\n",
       "Illegal Fireworks              168\n",
       "Graffiti                       113\n",
       "Agency Issues                    6\n",
       "Squeegee                         4\n",
       "Ferry Complaint                  2\n",
       "Animal in a Park                 1\n",
       "dtype: int64"
      ]
     },
     "execution_count": 72,
     "metadata": {},
     "output_type": "execute_result"
    }
   ],
   "source": [
    "count"
   ]
  },
  {
   "cell_type": "code",
   "execution_count": 73,
   "metadata": {},
   "outputs": [
    {
     "name": "stdout",
     "output_type": "stream",
     "text": [
      "(0.6021366119384766, 6.526526590278081e-07)\n"
     ]
    }
   ],
   "source": [
    "print(stats.shapiro(count))"
   ]
  },
  {
   "cell_type": "code",
   "execution_count": null,
   "metadata": {},
   "outputs": [],
   "source": [
    "# p value is 0.60"
   ]
  },
  {
   "cell_type": "code",
   "execution_count": null,
   "metadata": {},
   "outputs": [],
   "source": [
    "# to determine whether there are any statistical differences between Complaint types and Time taken to resolve"
   ]
  },
  {
   "cell_type": "code",
   "execution_count": 80,
   "metadata": {},
   "outputs": [],
   "source": [
    "nyc['Complaint_type']=nyc['Complaint Type'].copy()"
   ]
  },
  {
   "cell_type": "code",
   "execution_count": 82,
   "metadata": {},
   "outputs": [
    {
     "data": {
      "text/plain": [
       "0         Noise - Street/Sidewalk\n",
       "1                Blocked Driveway\n",
       "2                Blocked Driveway\n",
       "3                 Illegal Parking\n",
       "4                 Illegal Parking\n",
       "                   ...           \n",
       "300693         Noise - Commercial\n",
       "300694           Blocked Driveway\n",
       "300695         Noise - Commercial\n",
       "300696         Noise - Commercial\n",
       "300697         Noise - Commercial\n",
       "Name: Complaint_type, Length: 300698, dtype: object"
      ]
     },
     "execution_count": 82,
     "metadata": {},
     "output_type": "execute_result"
    }
   ],
   "source": [
    "nyc['Complaint_type']"
   ]
  },
  {
   "cell_type": "code",
   "execution_count": 83,
   "metadata": {},
   "outputs": [],
   "source": [
    "stat,p = f_oneway(nyc.Request_Closing_Hours, nyc.Complaint_type.value_counts())"
   ]
  },
  {
   "cell_type": "code",
   "execution_count": 84,
   "metadata": {},
   "outputs": [
    {
     "name": "stdout",
     "output_type": "stream",
     "text": [
      "92573.57280767313 0.0\n"
     ]
    }
   ],
   "source": [
    "print(stat,p)"
   ]
  },
  {
   "cell_type": "code",
   "execution_count": null,
   "metadata": {},
   "outputs": [],
   "source": [
    "# to check complaint type and location are realted"
   ]
  },
  {
   "cell_type": "code",
   "execution_count": 86,
   "metadata": {},
   "outputs": [],
   "source": [
    "Data=pd.crosstab(nyc['Complaint_type'],nyc['Location'])"
   ]
  },
  {
   "cell_type": "code",
   "execution_count": 89,
   "metadata": {},
   "outputs": [],
   "source": [
    "from scipy.stats import chi2_contingency"
   ]
  },
  {
   "cell_type": "code",
   "execution_count": 90,
   "metadata": {},
   "outputs": [],
   "source": [
    "stat,p,dof,expected = chi2_contingency(Data)"
   ]
  },
  {
   "cell_type": "code",
   "execution_count": 91,
   "metadata": {},
   "outputs": [
    {
     "name": "stdout",
     "output_type": "stream",
     "text": [
      "4167451.193668138 0.0\n"
     ]
    }
   ],
   "source": [
    "print(stat,p)"
   ]
  },
  {
   "cell_type": "markdown",
   "metadata": {},
   "source": [
    "There it is proven that there is no effect of factors like type of complaint or  service requested and location in resolving the complaints\n",
    "    \n",
    "    ## H0 : The Null Hypothesis is considered"
   ]
  }
 ],
 "metadata": {
  "kernelspec": {
   "display_name": "Python 3",
   "language": "python",
   "name": "python3"
  },
  "language_info": {
   "codemirror_mode": {
    "name": "ipython",
    "version": 3
   },
   "file_extension": ".py",
   "mimetype": "text/x-python",
   "name": "python",
   "nbconvert_exporter": "python",
   "pygments_lexer": "ipython3",
   "version": "3.7.6"
  }
 },
 "nbformat": 4,
 "nbformat_minor": 4
}
